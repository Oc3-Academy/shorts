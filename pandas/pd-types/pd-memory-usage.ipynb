{
 "cells": [
  {
   "cell_type": "code",
   "execution_count": 2,
   "metadata": {},
   "outputs": [
    {
     "data": {
      "text/plain": [
       "Index          128\n",
       "city         16544\n",
       "country      16544\n",
       "date.utc     16544\n",
       "location     16544\n",
       "parameter    16544\n",
       "value        16544\n",
       "unit         16544\n",
       "dtype: int64"
      ]
     },
     "execution_count": 2,
     "metadata": {},
     "output_type": "execute_result"
    }
   ],
   "source": [
    "import pandas as pd\n",
    "data = pd.read_csv(\"data/air_quality_no2_long.txt\")\n",
    "data.memory_usage()\n"
   ]
  },
  {
   "cell_type": "code",
   "execution_count": 3,
   "metadata": {},
   "outputs": [
    {
     "data": {
      "text/plain": [
       "Index          128\n",
       "city         16544\n",
       "country       2200\n",
       "date.utc     16544\n",
       "location     16544\n",
       "parameter    16544\n",
       "value        16544\n",
       "unit         16544\n",
       "dtype: int64"
      ]
     },
     "execution_count": 3,
     "metadata": {},
     "output_type": "execute_result"
    }
   ],
   "source": [
    "data[\"country\"] = data[\"country\"].astype(\"category\")\n",
    "data.memory_usage()"
   ]
  },
  {
   "cell_type": "code",
   "execution_count": null,
   "metadata": {},
   "outputs": [],
   "source": []
  }
 ],
 "metadata": {
  "kernelspec": {
   "display_name": "Python 3.10.0 ('shorts-HWUbpqfq')",
   "language": "python",
   "name": "python3"
  },
  "language_info": {
   "codemirror_mode": {
    "name": "ipython",
    "version": 3
   },
   "file_extension": ".py",
   "mimetype": "text/x-python",
   "name": "python",
   "nbconvert_exporter": "python",
   "pygments_lexer": "ipython3",
   "version": "3.10.0"
  },
  "orig_nbformat": 4,
  "vscode": {
   "interpreter": {
    "hash": "baae544658a1635e8e30b8a2a4fc002010e5cc9b9a8f06c32ef5eff6eebfd09f"
   }
  }
 },
 "nbformat": 4,
 "nbformat_minor": 2
}
