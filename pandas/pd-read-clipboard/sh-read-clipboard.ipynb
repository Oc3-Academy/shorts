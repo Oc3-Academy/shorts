{
 "cells": [
  {
   "cell_type": "code",
   "execution_count": 5,
   "metadata": {},
   "outputs": [],
   "source": [
    "import pandas as pd"
   ]
  },
  {
   "cell_type": "code",
   "execution_count": 6,
   "metadata": {},
   "outputs": [
    {
     "data": {
      "text/html": [
       "<div>\n",
       "<style scoped>\n",
       "    .dataframe tbody tr th:only-of-type {\n",
       "        vertical-align: middle;\n",
       "    }\n",
       "\n",
       "    .dataframe tbody tr th {\n",
       "        vertical-align: top;\n",
       "    }\n",
       "\n",
       "    .dataframe thead th {\n",
       "        text-align: right;\n",
       "    }\n",
       "</style>\n",
       "<table border=\"1\" class=\"dataframe\">\n",
       "  <thead>\n",
       "    <tr style=\"text-align: right;\">\n",
       "      <th></th>\n",
       "      <th>Comida</th>\n",
       "      <th>Hora</th>\n",
       "      <th>Cep</th>\n",
       "    </tr>\n",
       "  </thead>\n",
       "  <tbody>\n",
       "    <tr>\n",
       "      <th>0</th>\n",
       "      <td>fruta</td>\n",
       "      <td>08:00</td>\n",
       "      <td>123123-123</td>\n",
       "    </tr>\n",
       "    <tr>\n",
       "      <th>1</th>\n",
       "      <td>macarrão</td>\n",
       "      <td>12:00</td>\n",
       "      <td>333333-123</td>\n",
       "    </tr>\n",
       "    <tr>\n",
       "      <th>2</th>\n",
       "      <td>camarão</td>\n",
       "      <td>22:00</td>\n",
       "      <td>344341-104</td>\n",
       "    </tr>\n",
       "    <tr>\n",
       "      <th>3</th>\n",
       "      <td>pizza</td>\n",
       "      <td>21:00</td>\n",
       "      <td>303030-998</td>\n",
       "    </tr>\n",
       "    <tr>\n",
       "      <th>4</th>\n",
       "      <td>risoto</td>\n",
       "      <td>20:00</td>\n",
       "      <td>464645-764</td>\n",
       "    </tr>\n",
       "  </tbody>\n",
       "</table>\n",
       "</div>"
      ],
      "text/plain": [
       "     Comida   Hora         Cep\n",
       "0     fruta  08:00  123123-123\n",
       "1  macarrão  12:00  333333-123\n",
       "2   camarão  22:00  344341-104\n",
       "3     pizza  21:00  303030-998\n",
       "4    risoto  20:00  464645-764"
      ]
     },
     "execution_count": 6,
     "metadata": {},
     "output_type": "execute_result"
    }
   ],
   "source": [
    "pd.read_clipboard()"
   ]
  },
  {
   "cell_type": "code",
   "execution_count": 7,
   "metadata": {},
   "outputs": [
    {
     "ename": "ParserError",
     "evalue": "Expected 3 fields in line 5, saw 5. Error could possibly be due to quotes being ignored when a multi-char delimiter is used.",
     "output_type": "error",
     "traceback": [
      "\u001b[0;31m---------------------------------------------------------------------------\u001b[0m",
      "\u001b[0;31mParserError\u001b[0m                               Traceback (most recent call last)",
      "\u001b[1;32m/home/luba/Documents/Oc3/channel/repos/shorts/pandas-read-clipboard/sh-read-clipboard copy.ipynb Cell 3'\u001b[0m in \u001b[0;36m<cell line: 1>\u001b[0;34m()\u001b[0m\n\u001b[0;32m----> <a href='vscode-notebook-cell:/home/luba/Documents/Oc3/channel/repos/shorts/pandas-read-clipboard/sh-read-clipboard%20copy.ipynb#ch0000012?line=0'>1</a>\u001b[0m pd\u001b[39m.\u001b[39;49mread_clipboard()\n",
      "File \u001b[0;32m~/.local/share/virtualenvs/shorts-HWUbpqfq/lib/python3.10/site-packages/pandas/io/clipboards.py:85\u001b[0m, in \u001b[0;36mread_clipboard\u001b[0;34m(sep, **kwargs)\u001b[0m\n\u001b[1;32m     80\u001b[0m \u001b[39melif\u001b[39;00m \u001b[39mlen\u001b[39m(sep) \u001b[39m>\u001b[39m \u001b[39m1\u001b[39m \u001b[39mand\u001b[39;00m kwargs\u001b[39m.\u001b[39mget(\u001b[39m\"\u001b[39m\u001b[39mengine\u001b[39m\u001b[39m\"\u001b[39m) \u001b[39m==\u001b[39m \u001b[39m\"\u001b[39m\u001b[39mc\u001b[39m\u001b[39m\"\u001b[39m:\n\u001b[1;32m     81\u001b[0m     warnings\u001b[39m.\u001b[39mwarn(\n\u001b[1;32m     82\u001b[0m         \u001b[39m\"\u001b[39m\u001b[39mread_clipboard with regex separator does not work properly with c engine.\u001b[39m\u001b[39m\"\u001b[39m\n\u001b[1;32m     83\u001b[0m     )\n\u001b[0;32m---> 85\u001b[0m \u001b[39mreturn\u001b[39;00m read_csv(StringIO(text), sep\u001b[39m=\u001b[39;49msep, \u001b[39m*\u001b[39;49m\u001b[39m*\u001b[39;49mkwargs)\n",
      "File \u001b[0;32m~/.local/share/virtualenvs/shorts-HWUbpqfq/lib/python3.10/site-packages/pandas/util/_decorators.py:311\u001b[0m, in \u001b[0;36mdeprecate_nonkeyword_arguments.<locals>.decorate.<locals>.wrapper\u001b[0;34m(*args, **kwargs)\u001b[0m\n\u001b[1;32m    305\u001b[0m \u001b[39mif\u001b[39;00m \u001b[39mlen\u001b[39m(args) \u001b[39m>\u001b[39m num_allow_args:\n\u001b[1;32m    306\u001b[0m     warnings\u001b[39m.\u001b[39mwarn(\n\u001b[1;32m    307\u001b[0m         msg\u001b[39m.\u001b[39mformat(arguments\u001b[39m=\u001b[39marguments),\n\u001b[1;32m    308\u001b[0m         \u001b[39mFutureWarning\u001b[39;00m,\n\u001b[1;32m    309\u001b[0m         stacklevel\u001b[39m=\u001b[39mstacklevel,\n\u001b[1;32m    310\u001b[0m     )\n\u001b[0;32m--> 311\u001b[0m \u001b[39mreturn\u001b[39;00m func(\u001b[39m*\u001b[39;49margs, \u001b[39m*\u001b[39;49m\u001b[39m*\u001b[39;49mkwargs)\n",
      "File \u001b[0;32m~/.local/share/virtualenvs/shorts-HWUbpqfq/lib/python3.10/site-packages/pandas/io/parsers/readers.py:680\u001b[0m, in \u001b[0;36mread_csv\u001b[0;34m(filepath_or_buffer, sep, delimiter, header, names, index_col, usecols, squeeze, prefix, mangle_dupe_cols, dtype, engine, converters, true_values, false_values, skipinitialspace, skiprows, skipfooter, nrows, na_values, keep_default_na, na_filter, verbose, skip_blank_lines, parse_dates, infer_datetime_format, keep_date_col, date_parser, dayfirst, cache_dates, iterator, chunksize, compression, thousands, decimal, lineterminator, quotechar, quoting, doublequote, escapechar, comment, encoding, encoding_errors, dialect, error_bad_lines, warn_bad_lines, on_bad_lines, delim_whitespace, low_memory, memory_map, float_precision, storage_options)\u001b[0m\n\u001b[1;32m    665\u001b[0m kwds_defaults \u001b[39m=\u001b[39m _refine_defaults_read(\n\u001b[1;32m    666\u001b[0m     dialect,\n\u001b[1;32m    667\u001b[0m     delimiter,\n\u001b[0;32m   (...)\u001b[0m\n\u001b[1;32m    676\u001b[0m     defaults\u001b[39m=\u001b[39m{\u001b[39m\"\u001b[39m\u001b[39mdelimiter\u001b[39m\u001b[39m\"\u001b[39m: \u001b[39m\"\u001b[39m\u001b[39m,\u001b[39m\u001b[39m\"\u001b[39m},\n\u001b[1;32m    677\u001b[0m )\n\u001b[1;32m    678\u001b[0m kwds\u001b[39m.\u001b[39mupdate(kwds_defaults)\n\u001b[0;32m--> 680\u001b[0m \u001b[39mreturn\u001b[39;00m _read(filepath_or_buffer, kwds)\n",
      "File \u001b[0;32m~/.local/share/virtualenvs/shorts-HWUbpqfq/lib/python3.10/site-packages/pandas/io/parsers/readers.py:581\u001b[0m, in \u001b[0;36m_read\u001b[0;34m(filepath_or_buffer, kwds)\u001b[0m\n\u001b[1;32m    578\u001b[0m     \u001b[39mreturn\u001b[39;00m parser\n\u001b[1;32m    580\u001b[0m \u001b[39mwith\u001b[39;00m parser:\n\u001b[0;32m--> 581\u001b[0m     \u001b[39mreturn\u001b[39;00m parser\u001b[39m.\u001b[39;49mread(nrows)\n",
      "File \u001b[0;32m~/.local/share/virtualenvs/shorts-HWUbpqfq/lib/python3.10/site-packages/pandas/io/parsers/readers.py:1255\u001b[0m, in \u001b[0;36mTextFileReader.read\u001b[0;34m(self, nrows)\u001b[0m\n\u001b[1;32m   1253\u001b[0m nrows \u001b[39m=\u001b[39m validate_integer(\u001b[39m\"\u001b[39m\u001b[39mnrows\u001b[39m\u001b[39m\"\u001b[39m, nrows)\n\u001b[1;32m   1254\u001b[0m \u001b[39mtry\u001b[39;00m:\n\u001b[0;32m-> 1255\u001b[0m     index, columns, col_dict \u001b[39m=\u001b[39m \u001b[39mself\u001b[39;49m\u001b[39m.\u001b[39;49m_engine\u001b[39m.\u001b[39;49mread(nrows)\n\u001b[1;32m   1256\u001b[0m \u001b[39mexcept\u001b[39;00m \u001b[39mException\u001b[39;00m:\n\u001b[1;32m   1257\u001b[0m     \u001b[39mself\u001b[39m\u001b[39m.\u001b[39mclose()\n",
      "File \u001b[0;32m~/.local/share/virtualenvs/shorts-HWUbpqfq/lib/python3.10/site-packages/pandas/io/parsers/python_parser.py:270\u001b[0m, in \u001b[0;36mPythonParser.read\u001b[0;34m(self, rows)\u001b[0m\n\u001b[1;32m    267\u001b[0m     indexnamerow \u001b[39m=\u001b[39m content[\u001b[39m0\u001b[39m]\n\u001b[1;32m    268\u001b[0m     content \u001b[39m=\u001b[39m content[\u001b[39m1\u001b[39m:]\n\u001b[0;32m--> 270\u001b[0m alldata \u001b[39m=\u001b[39m \u001b[39mself\u001b[39;49m\u001b[39m.\u001b[39;49m_rows_to_cols(content)\n\u001b[1;32m    271\u001b[0m data, columns \u001b[39m=\u001b[39m \u001b[39mself\u001b[39m\u001b[39m.\u001b[39m_exclude_implicit_index(alldata)\n\u001b[1;32m    273\u001b[0m conv_data \u001b[39m=\u001b[39m \u001b[39mself\u001b[39m\u001b[39m.\u001b[39m_convert_data(data)\n",
      "File \u001b[0;32m~/.local/share/virtualenvs/shorts-HWUbpqfq/lib/python3.10/site-packages/pandas/io/parsers/python_parser.py:1013\u001b[0m, in \u001b[0;36mPythonParser._rows_to_cols\u001b[0;34m(self, content)\u001b[0m\n\u001b[1;32m   1007\u001b[0m             reason \u001b[39m=\u001b[39m (\n\u001b[1;32m   1008\u001b[0m                 \u001b[39m\"\u001b[39m\u001b[39mError could possibly be due to quotes being \u001b[39m\u001b[39m\"\u001b[39m\n\u001b[1;32m   1009\u001b[0m                 \u001b[39m\"\u001b[39m\u001b[39mignored when a multi-char delimiter is used.\u001b[39m\u001b[39m\"\u001b[39m\n\u001b[1;32m   1010\u001b[0m             )\n\u001b[1;32m   1011\u001b[0m             msg \u001b[39m+\u001b[39m\u001b[39m=\u001b[39m \u001b[39m\"\u001b[39m\u001b[39m. \u001b[39m\u001b[39m\"\u001b[39m \u001b[39m+\u001b[39m reason\n\u001b[0;32m-> 1013\u001b[0m         \u001b[39mself\u001b[39;49m\u001b[39m.\u001b[39;49m_alert_malformed(msg, row_num \u001b[39m+\u001b[39;49m \u001b[39m1\u001b[39;49m)\n\u001b[1;32m   1015\u001b[0m \u001b[39m# see gh-13320\u001b[39;00m\n\u001b[1;32m   1016\u001b[0m zipped_content \u001b[39m=\u001b[39m \u001b[39mlist\u001b[39m(lib\u001b[39m.\u001b[39mto_object_array(content, min_width\u001b[39m=\u001b[39mcol_len)\u001b[39m.\u001b[39mT)\n",
      "File \u001b[0;32m~/.local/share/virtualenvs/shorts-HWUbpqfq/lib/python3.10/site-packages/pandas/io/parsers/python_parser.py:739\u001b[0m, in \u001b[0;36mPythonParser._alert_malformed\u001b[0;34m(self, msg, row_num)\u001b[0m\n\u001b[1;32m    722\u001b[0m \u001b[39m\"\"\"\u001b[39;00m\n\u001b[1;32m    723\u001b[0m \u001b[39mAlert a user about a malformed row, depending on value of\u001b[39;00m\n\u001b[1;32m    724\u001b[0m \u001b[39m`self.on_bad_lines` enum.\u001b[39;00m\n\u001b[0;32m   (...)\u001b[0m\n\u001b[1;32m    736\u001b[0m \u001b[39m    even though we 0-index internally.\u001b[39;00m\n\u001b[1;32m    737\u001b[0m \u001b[39m\"\"\"\u001b[39;00m\n\u001b[1;32m    738\u001b[0m \u001b[39mif\u001b[39;00m \u001b[39mself\u001b[39m\u001b[39m.\u001b[39mon_bad_lines \u001b[39m==\u001b[39m \u001b[39mself\u001b[39m\u001b[39m.\u001b[39mBadLineHandleMethod\u001b[39m.\u001b[39mERROR:\n\u001b[0;32m--> 739\u001b[0m     \u001b[39mraise\u001b[39;00m ParserError(msg)\n\u001b[1;32m    740\u001b[0m \u001b[39melif\u001b[39;00m \u001b[39mself\u001b[39m\u001b[39m.\u001b[39mon_bad_lines \u001b[39m==\u001b[39m \u001b[39mself\u001b[39m\u001b[39m.\u001b[39mBadLineHandleMethod\u001b[39m.\u001b[39mWARN:\n\u001b[1;32m    741\u001b[0m     base \u001b[39m=\u001b[39m \u001b[39mf\u001b[39m\u001b[39m\"\u001b[39m\u001b[39mSkipping line \u001b[39m\u001b[39m{\u001b[39;00mrow_num\u001b[39m}\u001b[39;00m\u001b[39m: \u001b[39m\u001b[39m\"\u001b[39m\n",
      "\u001b[0;31mParserError\u001b[0m: Expected 3 fields in line 5, saw 5. Error could possibly be due to quotes being ignored when a multi-char delimiter is used."
     ]
    }
   ],
   "source": [
    "pd.read_clipboard()"
   ]
  },
  {
   "cell_type": "code",
   "execution_count": 8,
   "metadata": {},
   "outputs": [
    {
     "data": {
      "text/html": [
       "<div>\n",
       "<style scoped>\n",
       "    .dataframe tbody tr th:only-of-type {\n",
       "        vertical-align: middle;\n",
       "    }\n",
       "\n",
       "    .dataframe tbody tr th {\n",
       "        vertical-align: top;\n",
       "    }\n",
       "\n",
       "    .dataframe thead th {\n",
       "        text-align: right;\n",
       "    }\n",
       "</style>\n",
       "<table border=\"1\" class=\"dataframe\">\n",
       "  <thead>\n",
       "    <tr style=\"text-align: right;\">\n",
       "      <th></th>\n",
       "      <th>0</th>\n",
       "      <th>1</th>\n",
       "      <th>2</th>\n",
       "      <th>3</th>\n",
       "      <th>4</th>\n",
       "    </tr>\n",
       "  </thead>\n",
       "  <tbody>\n",
       "    <tr>\n",
       "      <th>0</th>\n",
       "      <td>1</td>\n",
       "      <td>Afghanistan</td>\n",
       "      <td>38,928,346</td>\n",
       "      <td>652,860</td>\n",
       "      <td>60</td>\n",
       "    </tr>\n",
       "    <tr>\n",
       "      <th>1</th>\n",
       "      <td>2</td>\n",
       "      <td>Albania</td>\n",
       "      <td>2,877,797</td>\n",
       "      <td>27,400</td>\n",
       "      <td>105</td>\n",
       "    </tr>\n",
       "    <tr>\n",
       "      <th>2</th>\n",
       "      <td>3</td>\n",
       "      <td>Algeria</td>\n",
       "      <td>43,851,044</td>\n",
       "      <td>2,381,740</td>\n",
       "      <td>18</td>\n",
       "    </tr>\n",
       "    <tr>\n",
       "      <th>3</th>\n",
       "      <td>4</td>\n",
       "      <td>Andorra</td>\n",
       "      <td>77,265</td>\n",
       "      <td>470</td>\n",
       "      <td>164</td>\n",
       "    </tr>\n",
       "    <tr>\n",
       "      <th>4</th>\n",
       "      <td>5</td>\n",
       "      <td>Angola</td>\n",
       "      <td>32,866,272</td>\n",
       "      <td>1,246,700</td>\n",
       "      <td>26</td>\n",
       "    </tr>\n",
       "    <tr>\n",
       "      <th>5</th>\n",
       "      <td>6</td>\n",
       "      <td>Antigua and Barbuda</td>\n",
       "      <td>97,929</td>\n",
       "      <td>440</td>\n",
       "      <td>223</td>\n",
       "    </tr>\n",
       "    <tr>\n",
       "      <th>6</th>\n",
       "      <td>7</td>\n",
       "      <td>Argentina</td>\n",
       "      <td>45,195,774</td>\n",
       "      <td>2,736,690</td>\n",
       "      <td>17</td>\n",
       "    </tr>\n",
       "    <tr>\n",
       "      <th>7</th>\n",
       "      <td>8</td>\n",
       "      <td>Armenia</td>\n",
       "      <td>2,963,243</td>\n",
       "      <td>28,470</td>\n",
       "      <td>104</td>\n",
       "    </tr>\n",
       "    <tr>\n",
       "      <th>8</th>\n",
       "      <td>9</td>\n",
       "      <td>Australia</td>\n",
       "      <td>25,499,884</td>\n",
       "      <td>7,682,300</td>\n",
       "      <td>3</td>\n",
       "    </tr>\n",
       "    <tr>\n",
       "      <th>9</th>\n",
       "      <td>10</td>\n",
       "      <td>Austria</td>\n",
       "      <td>9,006,398</td>\n",
       "      <td>82,409</td>\n",
       "      <td>109</td>\n",
       "    </tr>\n",
       "  </tbody>\n",
       "</table>\n",
       "</div>"
      ],
      "text/plain": [
       "    0                    1           2          3    4\n",
       "0   1          Afghanistan  38,928,346    652,860   60\n",
       "1   2              Albania   2,877,797     27,400  105\n",
       "2   3              Algeria  43,851,044  2,381,740   18\n",
       "3   4              Andorra      77,265        470  164\n",
       "4   5               Angola  32,866,272  1,246,700   26\n",
       "5   6  Antigua and Barbuda      97,929        440  223\n",
       "6   7            Argentina  45,195,774  2,736,690   17\n",
       "7   8              Armenia   2,963,243     28,470  104\n",
       "8   9            Australia  25,499,884  7,682,300    3\n",
       "9  10              Austria   9,006,398     82,409  109"
      ]
     },
     "execution_count": 8,
     "metadata": {},
     "output_type": "execute_result"
    }
   ],
   "source": [
    "pd.read_clipboard(header=None)"
   ]
  },
  {
   "cell_type": "code",
   "execution_count": null,
   "metadata": {},
   "outputs": [],
   "source": []
  }
 ],
 "metadata": {
  "kernelspec": {
   "display_name": "Python 3.10.0 ('shorts-HWUbpqfq')",
   "language": "python",
   "name": "python3"
  },
  "language_info": {
   "codemirror_mode": {
    "name": "ipython",
    "version": 3
   },
   "file_extension": ".py",
   "mimetype": "text/x-python",
   "name": "python",
   "nbconvert_exporter": "python",
   "pygments_lexer": "ipython3",
   "version": "3.10.0"
  },
  "orig_nbformat": 4,
  "vscode": {
   "interpreter": {
    "hash": "baae544658a1635e8e30b8a2a4fc002010e5cc9b9a8f06c32ef5eff6eebfd09f"
   }
  }
 },
 "nbformat": 4,
 "nbformat_minor": 2
}
