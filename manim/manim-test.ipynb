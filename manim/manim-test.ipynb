{
 "cells": [
  {
   "cell_type": "code",
   "execution_count": 2,
   "metadata": {},
   "outputs": [],
   "source": [
    "from manimlib import *\n",
    "import numpy as np"
   ]
  },
  {
   "cell_type": "code",
   "execution_count": 3,
   "metadata": {},
   "outputs": [],
   "source": [
    "class OpeningManimExample(Scene):\n",
    "    def construct(self):\n",
    "        intro_words = Text(\"\"\"\n",
    "            The original motivation for manim was to\n",
    "            better illustrate mathematical functions\n",
    "            as transformations.\n",
    "        \"\"\")\n",
    "        intro_words.to_edge(UP)\n",
    "\n",
    "        self.play(Write(intro_words))\n",
    "        self.wait(2)\n",
    "\n",
    "        # Linear transform\n",
    "        grid = NumberPlane((-10, 10), (-5, 5))\n",
    "        matrix = [[1, 1], [0, 1]]\n",
    "        linear_transform_words = VGroup(\n",
    "            Text(\"This is what the matrix\"),\n",
    "            IntegerMatrix(matrix, include_background_rectangle=True),\n",
    "            Text(\"looks like\")\n",
    "        )\n",
    "        linear_transform_words.arrange(RIGHT)\n",
    "        linear_transform_words.to_edge(UP)\n",
    "        linear_transform_words.set_stroke(BLACK, 10, background=True)\n",
    "\n",
    "        self.play(\n",
    "            ShowCreation(grid),\n",
    "            FadeTransform(intro_words, linear_transform_words)\n",
    "        )\n",
    "        self.wait()\n",
    "        self.play(grid.animate.apply_matrix(matrix), run_time=3)\n",
    "        self.wait()\n",
    "\n",
    "        # Complex map\n",
    "        c_grid = ComplexPlane()\n",
    "        moving_c_grid = c_grid.copy()\n",
    "        moving_c_grid.prepare_for_nonlinear_transform()\n",
    "        c_grid.set_stroke(BLUE_E, 1)\n",
    "        c_grid.add_coordinate_labels(font_size=24)\n",
    "        complex_map_words = TexText(\"\"\"\n",
    "            Or thinking of the plane as $\\\\mathds{C}$,\\\\\\\\\n",
    "            this is the map $z \\\\rightarrow z^2$\n",
    "        \"\"\")\n",
    "        complex_map_words.to_corner(UR)\n",
    "        complex_map_words.set_stroke(BLACK, 5, background=True)\n",
    "\n",
    "        self.play(\n",
    "            FadeOut(grid),\n",
    "            Write(c_grid, run_time=3),\n",
    "            FadeIn(moving_c_grid),\n",
    "            FadeTransform(linear_transform_words, complex_map_words),\n",
    "        )\n",
    "        self.wait()\n",
    "        self.play(\n",
    "            moving_c_grid.animate.apply_complex_function(lambda z: z**2),\n",
    "            run_time=6,\n",
    "        )\n",
    "        self.wait(2)\n"
   ]
  },
  {
   "cell_type": "code",
   "execution_count": 4,
   "metadata": {},
   "outputs": [
    {
     "data": {
      "text/plain": [
       "<__main__.OpeningManimExample at 0x7fd5bc8c9540>"
      ]
     },
     "execution_count": 4,
     "metadata": {},
     "output_type": "execute_result"
    }
   ],
   "source": []
  },
  {
   "cell_type": "code",
   "execution_count": 3,
   "metadata": {},
   "outputs": [],
   "source": [
    "class Test(Scene):\n",
    "    def construct(self) -> None:\n",
    "        circ = Circle(radius=2.4, color=RED)\n",
    "        self.play(Create(circ))"
   ]
  },
  {
   "cell_type": "code",
   "execution_count": 4,
   "metadata": {},
   "outputs": [
    {
     "data": {
      "text/plain": [
       "<__main__.Test at 0x7f0e6b872a10>"
      ]
     },
     "execution_count": 4,
     "metadata": {},
     "output_type": "execute_result"
    }
   ],
   "source": [
    "Test()"
   ]
  },
  {
   "cell_type": "code",
   "execution_count": null,
   "metadata": {},
   "outputs": [],
   "source": []
  }
 ],
 "metadata": {
  "kernelspec": {
   "display_name": "Python 3.10.0 ('shorts-HWUbpqfq')",
   "language": "python",
   "name": "python3"
  },
  "language_info": {
   "codemirror_mode": {
    "name": "ipython",
    "version": 3
   },
   "file_extension": ".py",
   "mimetype": "text/x-python",
   "name": "python",
   "nbconvert_exporter": "python",
   "pygments_lexer": "ipython3",
   "version": "3.10.0"
  },
  "orig_nbformat": 4,
  "vscode": {
   "interpreter": {
    "hash": "baae544658a1635e8e30b8a2a4fc002010e5cc9b9a8f06c32ef5eff6eebfd09f"
   }
  }
 },
 "nbformat": 4,
 "nbformat_minor": 2
}
